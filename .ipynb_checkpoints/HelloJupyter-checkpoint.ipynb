{
 "cells": [
  {
   "cell_type": "code",
   "execution_count": 14,
   "id": "0c71a245-2762-47cb-9da7-25e61b578d4d",
   "metadata": {},
   "outputs": [
    {
     "name": "stdout",
     "output_type": "stream",
     "text": [
      "Hello jupyter 내용변경\n"
     ]
    }
   ],
   "source": [
    "print(\"Hello jupyter 내용변경\")"
   ]
  },
  {
   "cell_type": "code",
   "execution_count": 17,
   "id": "bb122358-63bb-476a-bd27-2ad624496745",
   "metadata": {},
   "outputs": [
    {
     "name": "stdout",
     "output_type": "stream",
     "text": [
      "ctrl + enter\n"
     ]
    }
   ],
   "source": [
    "print('ctrl + enter')\n",
    "# 현재 셀 실행하기. 셀의 이동은 없음"
   ]
  },
  {
   "cell_type": "code",
   "execution_count": 18,
   "id": "db39cb37-8842-4109-a9b1-14274b87cb6c",
   "metadata": {},
   "outputs": [
    {
     "name": "stdout",
     "output_type": "stream",
     "text": [
      "shift + enter\n"
     ]
    }
   ],
   "source": [
    "print('shift + enter')\n",
    "# 현재 셀 실행 후 다음 셀로 이동하기. 만약 다음 셀이 없다면 생성한다.\n",
    "# 다음 셀이 있다면 포커스만 이동된다."
   ]
  },
  {
   "cell_type": "code",
   "execution_count": 19,
   "id": "756bbb50-fd84-4ada-96d7-473103ee458c",
   "metadata": {},
   "outputs": [
    {
     "name": "stdout",
     "output_type": "stream",
     "text": [
      "alt + enter\n"
     ]
    },
    {
     "data": {
      "text/plain": [
       "'\\n현재 셀을 실행한 후 다음 셀을 생성한다. 만약 다음 셀이 있다면 중간에 새로운 \\n셀을 삽입한다. \\n'"
      ]
     },
     "execution_count": 19,
     "metadata": {},
     "output_type": "execute_result"
    }
   ],
   "source": [
    "print('alt + enter')\n",
    "'''\n",
    "현재 셀을 실행한 후 다음 셀을 생성한다. 만약 다음 셀이 있다면 중간에 새로운 \n",
    "셀을 삽입한다. \n",
    "'''"
   ]
  },
  {
   "cell_type": "code",
   "execution_count": 11,
   "id": "8769f582-2f4a-40dd-a056-fd60ed20a61c",
   "metadata": {},
   "outputs": [
    {
     "name": "stdout",
     "output_type": "stream",
     "text": [
      "두번째 줄 작성(수정)\n"
     ]
    }
   ],
   "source": [
    "print(\"두번째 줄 작성(수정)\")"
   ]
  },
  {
   "cell_type": "code",
   "execution_count": null,
   "id": "b884f0c2-7a20-48c9-8c03-aeaeae193a16",
   "metadata": {},
   "outputs": [],
   "source": []
  }
 ],
 "metadata": {
  "kernelspec": {
   "display_name": "Python 3 (ipykernel)",
   "language": "python",
   "name": "python3"
  },
  "language_info": {
   "codemirror_mode": {
    "name": "ipython",
    "version": 3
   },
   "file_extension": ".py",
   "mimetype": "text/x-python",
   "name": "python",
   "nbconvert_exporter": "python",
   "pygments_lexer": "ipython3",
   "version": "3.13.2"
  }
 },
 "nbformat": 4,
 "nbformat_minor": 5
}
