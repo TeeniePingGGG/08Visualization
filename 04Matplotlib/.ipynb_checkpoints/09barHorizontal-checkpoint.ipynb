{
 "cells": [
  {
   "cell_type": "code",
   "execution_count": 3,
   "id": "b4bcf2e5-8a68-4429-89a0-b05cea33ed56",
   "metadata": {},
   "outputs": [],
   "source": [
    "import pandas as pd\n",
    "import matplotlib.pyplot as plt\n",
    "from matplotlib import font_manager, rc"
   ]
  },
  {
   "cell_type": "code",
   "execution_count": 4,
   "id": "04a523f3-92de-4080-8bd0-472cd9ecd6c5",
   "metadata": {},
   "outputs": [],
   "source": [
    "font_path = '../resData/malgun.ttf'\n",
    "font_name = font_manager.FontProperties(fname=font_path).get_name()\n",
    "rc('font', family=font_name)"
   ]
  },
  {
   "cell_type": "code",
   "execution_count": 5,
   "id": "5398ac5f-8382-4de5-a3a4-494133a7815c",
   "metadata": {},
   "outputs": [
    {
     "name": "stderr",
     "output_type": "stream",
     "text": [
      "C:\\Users\\kosmo\\AppData\\Local\\Temp\\ipykernel_1932\\2084940065.py:2: FutureWarning: DataFrame.fillna with 'method' is deprecated and will raise in a future version. Use obj.ffill() or obj.bfill() instead.\n",
      "  df = df.fillna(method='ffill')\n"
     ]
    }
   ],
   "source": [
    "df = pd.read_excel(\"../resData/시도별_전출입_인구수.xlsx\", engine='openpyxl', header=0)\n",
    "df = df.fillna(method='ffill')\n",
    "mask = (df['전출지별'] == '서울특별시') & (df['전입지별'] != '서울특별시')\n",
    "df_seoul = df[mask]\n",
    "df_seoul = df_seoul.drop(['전출지별'], axis=1)\n",
    "df_seoul.rename({\"전입지별\": \"전입지\"}, axis=1, inplace=True)\n",
    "df_seoul.set_index('전입지', inplace=True)"
   ]
  },
  {
   "cell_type": "code",
   "execution_count": 6,
   "id": "61752f8d-626a-4a07-866b-710928e2b998",
   "metadata": {},
   "outputs": [
    {
     "data": {
      "text/plain": [
       "['2010', '2011', '2012', '2013', '2014', '2015', '2016', '2017']"
      ]
     },
     "execution_count": 6,
     "metadata": {},
     "output_type": "execute_result"
    }
   ],
   "source": [
    "# 연도를 2010~2017까지로 설정\n",
    "col_years = list(map(str,range(2010,2018)))\n",
    "col_years"
   ]
  },
  {
   "cell_type": "code",
   "execution_count": 8,
   "id": "e9daaa9b-1efe-4d93-9ba8-ba64e7d8898e",
   "metadata": {},
   "outputs": [
    {
     "data": {
      "text/html": [
       "<div>\n",
       "<style scoped>\n",
       "    .dataframe tbody tr th:only-of-type {\n",
       "        vertical-align: middle;\n",
       "    }\n",
       "\n",
       "    .dataframe tbody tr th {\n",
       "        vertical-align: top;\n",
       "    }\n",
       "\n",
       "    .dataframe thead th {\n",
       "        text-align: right;\n",
       "    }\n",
       "</style>\n",
       "<table border=\"1\" class=\"dataframe\">\n",
       "  <thead>\n",
       "    <tr style=\"text-align: right;\">\n",
       "      <th></th>\n",
       "      <th>2010</th>\n",
       "      <th>2011</th>\n",
       "      <th>2012</th>\n",
       "      <th>2013</th>\n",
       "      <th>2014</th>\n",
       "      <th>2015</th>\n",
       "      <th>2016</th>\n",
       "      <th>2017</th>\n",
       "    </tr>\n",
       "    <tr>\n",
       "      <th>전입지</th>\n",
       "      <th></th>\n",
       "      <th></th>\n",
       "      <th></th>\n",
       "      <th></th>\n",
       "      <th></th>\n",
       "      <th></th>\n",
       "      <th></th>\n",
       "      <th></th>\n",
       "    </tr>\n",
       "  </thead>\n",
       "  <tbody>\n",
       "    <tr>\n",
       "      <th>충청남도</th>\n",
       "      <td>24522</td>\n",
       "      <td>24723</td>\n",
       "      <td>22269</td>\n",
       "      <td>21486</td>\n",
       "      <td>21473</td>\n",
       "      <td>22299</td>\n",
       "      <td>21741</td>\n",
       "      <td>21020</td>\n",
       "    </tr>\n",
       "    <tr>\n",
       "      <th>경상북도</th>\n",
       "      <td>16042</td>\n",
       "      <td>15818</td>\n",
       "      <td>15191</td>\n",
       "      <td>14420</td>\n",
       "      <td>14456</td>\n",
       "      <td>15113</td>\n",
       "      <td>14236</td>\n",
       "      <td>12464</td>\n",
       "    </tr>\n",
       "    <tr>\n",
       "      <th>강원도</th>\n",
       "      <td>22736</td>\n",
       "      <td>23624</td>\n",
       "      <td>22332</td>\n",
       "      <td>20601</td>\n",
       "      <td>21173</td>\n",
       "      <td>22659</td>\n",
       "      <td>21590</td>\n",
       "      <td>21016</td>\n",
       "    </tr>\n",
       "    <tr>\n",
       "      <th>전라남도</th>\n",
       "      <td>16429</td>\n",
       "      <td>15974</td>\n",
       "      <td>14765</td>\n",
       "      <td>14187</td>\n",
       "      <td>14591</td>\n",
       "      <td>14598</td>\n",
       "      <td>13065</td>\n",
       "      <td>12426</td>\n",
       "    </tr>\n",
       "  </tbody>\n",
       "</table>\n",
       "</div>"
      ],
      "text/plain": [
       "       2010   2011   2012   2013   2014   2015   2016   2017\n",
       "전입지                                                         \n",
       "충청남도  24522  24723  22269  21486  21473  22299  21741  21020\n",
       "경상북도  16042  15818  15191  14420  14456  15113  14236  12464\n",
       "강원도   22736  23624  22332  20601  21173  22659  21590  21016\n",
       "전라남도  16429  15974  14765  14187  14591  14598  13065  12426"
      ]
     },
     "execution_count": 8,
     "metadata": {},
     "output_type": "execute_result"
    }
   ],
   "source": [
    "# 연도를 적용하여 각 4개의 도를 추출\n",
    "df4 = df_seoul.loc[['충청남도','경상북도','강원도','전라남도'],col_years]\n",
    "df4"
   ]
  },
  {
   "cell_type": "code",
   "execution_count": 16,
   "id": "801000ae-f9e6-4e78-bae8-736227765484",
   "metadata": {},
   "outputs": [
    {
     "data": {
      "text/html": [
       "<div>\n",
       "<style scoped>\n",
       "    .dataframe tbody tr th:only-of-type {\n",
       "        vertical-align: middle;\n",
       "    }\n",
       "\n",
       "    .dataframe tbody tr th {\n",
       "        vertical-align: top;\n",
       "    }\n",
       "\n",
       "    .dataframe thead th {\n",
       "        text-align: right;\n",
       "    }\n",
       "</style>\n",
       "<table border=\"1\" class=\"dataframe\">\n",
       "  <thead>\n",
       "    <tr style=\"text-align: right;\">\n",
       "      <th></th>\n",
       "      <th>합계</th>\n",
       "    </tr>\n",
       "    <tr>\n",
       "      <th>전입지</th>\n",
       "      <th></th>\n",
       "    </tr>\n",
       "  </thead>\n",
       "  <tbody>\n",
       "    <tr>\n",
       "      <th>전라남도</th>\n",
       "      <td>464140</td>\n",
       "    </tr>\n",
       "    <tr>\n",
       "      <th>경상북도</th>\n",
       "      <td>470960</td>\n",
       "    </tr>\n",
       "    <tr>\n",
       "      <th>강원도</th>\n",
       "      <td>702924</td>\n",
       "    </tr>\n",
       "    <tr>\n",
       "      <th>충청남도</th>\n",
       "      <td>718132</td>\n",
       "    </tr>\n",
       "  </tbody>\n",
       "</table>\n",
       "</div>"
      ],
      "text/plain": [
       "          합계\n",
       "전입지         \n",
       "전라남도  464140\n",
       "경상북도  470960\n",
       "강원도   702924\n",
       "충청남도  718132"
      ]
     },
     "execution_count": 16,
     "metadata": {},
     "output_type": "execute_result"
    }
   ],
   "source": [
    "df4['합계'] = df4.sum(axis=1)\n",
    "df_total = df4[['합계']].sort_values(by='합계',ascending=True)\n",
    "df_total"
   ]
  },
  {
   "cell_type": "code",
   "execution_count": 17,
   "id": "0abe0bba-b278-4779-b0e8-f8abb4138a25",
   "metadata": {},
   "outputs": [
    {
     "data": {
      "text/plain": [
       "Text(0.5, 0, '이동 인구 수')"
      ]
     },
     "execution_count": 17,
     "metadata": {},
     "output_type": "execute_result"
    },
    {
     "data": {
      "image/png": "[encoded data removed]",
      "text/plain": [
       "<Figure size 1000x500 with 1 Axes>"
      ]
     },
     "metadata": {},
     "output_type": "display_data"
    }
   ],
   "source": [
    "# 그래프 스타일 설정\n",
    "plt.style.use('ggplot')\n",
    "\n",
    "# 수평 형태의 막대 그래프(kind='barh') 생성.\n",
    "df_total.plot(kind='barh', color='cornflowerblue', width=0.5, figsize=(10,5))\n",
    "\n",
    "# 라벨 설정\n",
    "plt.title('서울 -> 타시도 인구 이동')\n",
    "plt.ylabel('전입지')\n",
    "plt.xlabel('이동 인구 수')"
   ]
  },
  {
   "cell_type": "code",
   "execution_count": null,
   "id": "c6571e1b-9f95-40be-86ef-dd2fc5ed45b2",
   "metadata": {},
   "outputs": [],
   "source": []
  }
 ],
 "metadata": {
  "kernelspec": {
   "display_name": "base",
   "language": "python",
   "name": "base"
  },
  "language_info": {
   "codemirror_mode": {
    "name": "ipython",
    "version": 3
   },
   "file_extension": ".py",
   "mimetype": "text/x-python",
   "name": "python",
   "nbconvert_exporter": "python",
   "pygments_lexer": "ipython3",
   "version": "3.13.2"
  }
 },
 "nbformat": 4,
 "nbformat_minor": 5
}
